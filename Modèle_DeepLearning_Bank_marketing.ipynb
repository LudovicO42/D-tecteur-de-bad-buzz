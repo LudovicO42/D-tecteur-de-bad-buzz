{
  "nbformat": 4,
  "nbformat_minor": 0,
  "metadata": {
    "colab": {
      "provenance": [],
      "include_colab_link": true
    },
    "kernelspec": {
      "name": "python3",
      "display_name": "Python 3"
    },
    "language_info": {
      "name": "python"
    }
  },
  "cells": [
    {
      "cell_type": "markdown",
      "metadata": {
        "id": "view-in-github",
        "colab_type": "text"
      },
      "source": [
        "<a href=\"https://colab.research.google.com/github/LudovicO42/D-tecteur-de-bad-buzz/blob/main/Mod%C3%A8le_DeepLearning_Bank_marketing.ipynb\" target=\"_parent\"><img src=\"https://colab.research.google.com/assets/colab-badge.svg\" alt=\"Open In Colab\"/></a>"
      ]
    },
    {
      "cell_type": "code",
      "source": [],
      "metadata": {
        "id": "dEPOAQA8Ff2L"
      },
      "execution_count": null,
      "outputs": []
    },
    {
      "cell_type": "markdown",
      "source": [
        "# Question 1 : On importe le jeu de données, on définit les variables, puis on sépare les données en deux types : les \"train\" et les \"test\".\n",
        "# On comparera ensuite les deux valeurs pour constater l'efficacité de l'algorythme."
      ],
      "metadata": {
        "id": "2ut-aK55FgHK"
      }
    },
    {
      "cell_type": "code",
      "execution_count": 3,
      "metadata": {
        "id": "irnD9v4YDt4N"
      },
      "outputs": [],
      "source": [
        "import pandas as pd\n",
        "import matplotlib.pyplot as plt\n",
        "\n",
        "from sklearn.model_selection import train_test_split\n",
        "from sklearn.preprocessing import StandardScaler\n",
        "from sklearn.preprocessing import LabelEncoder\n",
        "\n",
        "\n",
        "def plot_history(history):\n",
        "    plt.plot(history.history['accuracy'])\n",
        "    plt.plot(history.history['val_accuracy'])\n",
        "    plt.title('Accuracy')\n",
        "    plt.ylabel('Accuracy')\n",
        "    plt.xlabel('Epoch')\n",
        "    plt.legend(['train', 'val'], loc='upper left')\n",
        "    plt.show()\n",
        "\n",
        "\n",
        "file_path = 'train.csv'\n",
        "\n",
        "\n",
        "# Import du jeu de données\n",
        "df = pd.read_csv(file_path)\n",
        "\n",
        "X = df.drop(['ID', 'contact', 'month', 'day', 'y'], axis=1)\n",
        "y = df['y']\n",
        "\n",
        "# Encodage des variables catégorielles\n",
        "le = LabelEncoder()\n",
        "X['job'] = le.fit_transform(X['job'])\n",
        "X['marital'] = le.fit_transform(X['marital'])\n",
        "X['education'] = le.fit_transform(X['education'])\n",
        "X['default'] = le.fit_transform(X['default'])\n",
        "X['housing'] = le.fit_transform(X['housing'])\n",
        "X['loan'] = le.fit_transform(X['loan'])\n",
        "X['poutcome'] = le.fit_transform(X['poutcome'])\n",
        "\n",
        "y = le.fit_transform(y)\n",
        "\n",
        "# Normalisation des données\n",
        "sc = StandardScaler()\n",
        "X = sc.fit_transform(X)\n",
        "\n",
        "# Séparer les données en train et test\n",
        "X_train, X_test, y_train, y_test = train_test_split(X, y, test_size=0.2, random_state=42)"
      ]
    },
    {
      "cell_type": "markdown",
      "source": [
        "# Question 2 : On définit l'architecture du réseau de neurones avec 3 couches cachées, et 10 neurones/couche (sauf la couche de sortie avec 1 seul neurone)"
      ],
      "metadata": {
        "id": "dAotc3mzF6CV"
      }
    },
    {
      "cell_type": "code",
      "source": [
        "import tensorflow as tf\n",
        "\n",
        "class MultiLayerPerceptron:\n",
        "    def __init__(self, input_dim, output_dim):\n",
        "\n",
        "        # On crée un modèle séquentiel\n",
        "        self.model = tf.keras.models.Sequential() \n",
        "\n",
        "        # Première couche cachée de 10 neurones\n",
        "        self.model.add(tf.keras.layers.Dense(10, input_dim=input_dim, activation='relu'))\n",
        "\n",
        "        # Deuxième couche cachée de 10 neurones\n",
        "        self.model.add(tf.keras.layers.Dense(10, activation='relu'))\n",
        "        self.model.add(tf.keras.layers.Dense(10, activation='relu'))\n",
        "\n",
        "        # Couche de sortie de 1 neurones\n",
        "        self.model.add(tf.keras.layers.Dense(output_dim, activation='sigmoid'))\n",
        "\n",
        "model = MultiLayerPerceptron(12, 1).model\n",
        "\n"
      ],
      "metadata": {
        "id": "iBbnwN0JEOsG"
      },
      "execution_count": 43,
      "outputs": []
    },
    {
      "cell_type": "markdown",
      "source": [
        "# Question 3 : On compile le modèle avec adam et \"binary_crossentropy\""
      ],
      "metadata": {
        "id": "uOZWtljALCnK"
      }
    },
    {
      "cell_type": "code",
      "source": [
        "\n",
        "model.compile(optimizer='adam', loss='binary_crossentropy', metrics=['accuracy'])\n",
        "model.summary()\n"
      ],
      "metadata": {
        "id": "jvKbpDdTLwRa",
        "outputId": "3205b4c6-d2da-4bf4-dd36-5c7a5c5278e1",
        "colab": {
          "base_uri": "https://localhost:8080/"
        }
      },
      "execution_count": 26,
      "outputs": [
        {
          "output_type": "stream",
          "name": "stdout",
          "text": [
            "Model: \"sequential_7\"\n",
            "_________________________________________________________________\n",
            " Layer (type)                Output Shape              Param #   \n",
            "=================================================================\n",
            " dense_26 (Dense)            (None, 10)                130       \n",
            "                                                                 \n",
            " dense_27 (Dense)            (None, 10)                110       \n",
            "                                                                 \n",
            " dense_28 (Dense)            (None, 10)                110       \n",
            "                                                                 \n",
            " dense_29 (Dense)            (None, 1)                 11        \n",
            "                                                                 \n",
            "=================================================================\n",
            "Total params: 361\n",
            "Trainable params: 361\n",
            "Non-trainable params: 0\n",
            "_________________________________________________________________\n"
          ]
        }
      ]
    },
    {
      "cell_type": "code",
      "source": [
        "X_train.shape"
      ],
      "metadata": {
        "id": "CFCIIbwfPXdE",
        "outputId": "12f06edf-a382-49d3-e8db-bcd79046ad75",
        "colab": {
          "base_uri": "https://localhost:8080/"
        }
      },
      "execution_count": 25,
      "outputs": [
        {
          "output_type": "execute_result",
          "data": {
            "text/plain": [
              "(10296, 12)"
            ]
          },
          "metadata": {},
          "execution_count": 25
        }
      ]
    },
    {
      "cell_type": "markdown",
      "source": [
        "# Question 4 : On entraîne le modèle sur la BDD"
      ],
      "metadata": {
        "id": "-Z_h1NksL_xP"
      }
    },
    {
      "cell_type": "code",
      "source": [
        "history = model.fit(X_train, y_train, validation_data=(X_test, y_test),epochs=10, batch_size=32)"
      ],
      "metadata": {
        "id": "sm8P4BCKMCHb",
        "outputId": "53d1cc53-1bc7-4eea-e6f6-962b8080d2f7",
        "colab": {
          "base_uri": "https://localhost:8080/"
        }
      },
      "execution_count": 27,
      "outputs": [
        {
          "output_type": "stream",
          "name": "stdout",
          "text": [
            "Epoch 1/10\n",
            "322/322 [==============================] - 2s 2ms/step - loss: 0.5921 - accuracy: 0.7125 - val_loss: 0.5500 - val_accuracy: 0.7455\n",
            "Epoch 2/10\n",
            "322/322 [==============================] - 1s 2ms/step - loss: 0.5562 - accuracy: 0.7318 - val_loss: 0.5408 - val_accuracy: 0.7486\n",
            "Epoch 3/10\n",
            "322/322 [==============================] - 1s 2ms/step - loss: 0.5484 - accuracy: 0.7373 - val_loss: 0.5396 - val_accuracy: 0.7486\n",
            "Epoch 4/10\n",
            "322/322 [==============================] - 1s 3ms/step - loss: 0.5437 - accuracy: 0.7412 - val_loss: 0.5377 - val_accuracy: 0.7510\n",
            "Epoch 5/10\n",
            "322/322 [==============================] - 1s 2ms/step - loss: 0.5411 - accuracy: 0.7439 - val_loss: 0.5321 - val_accuracy: 0.7572\n",
            "Epoch 6/10\n",
            "322/322 [==============================] - 1s 2ms/step - loss: 0.5390 - accuracy: 0.7467 - val_loss: 0.5331 - val_accuracy: 0.7529\n",
            "Epoch 7/10\n",
            "322/322 [==============================] - 1s 2ms/step - loss: 0.5375 - accuracy: 0.7474 - val_loss: 0.5327 - val_accuracy: 0.7549\n",
            "Epoch 8/10\n",
            "322/322 [==============================] - 1s 3ms/step - loss: 0.5364 - accuracy: 0.7467 - val_loss: 0.5313 - val_accuracy: 0.7556\n",
            "Epoch 9/10\n",
            "322/322 [==============================] - 1s 3ms/step - loss: 0.5346 - accuracy: 0.7464 - val_loss: 0.5279 - val_accuracy: 0.7626\n",
            "Epoch 10/10\n",
            "322/322 [==============================] - 1s 2ms/step - loss: 0.5341 - accuracy: 0.7486 - val_loss: 0.5281 - val_accuracy: 0.7591\n"
          ]
        }
      ]
    },
    {
      "cell_type": "markdown",
      "source": [
        "# Question 5 : On affiche un graphe indiquant l'évolution du modèle en fonction du temps"
      ],
      "metadata": {
        "id": "pR90oZbhQ1ni"
      }
    },
    {
      "cell_type": "code",
      "source": [
        "plot_history(history)"
      ],
      "metadata": {
        "id": "WeH2VcKTQ5mI",
        "outputId": "d5c2fa74-ae08-46c5-bfe9-dcff37ce9559",
        "colab": {
          "base_uri": "https://localhost:8080/",
          "height": 472
        }
      },
      "execution_count": 28,
      "outputs": [
        {
          "output_type": "display_data",
          "data": {
            "text/plain": [
              "<Figure size 640x480 with 1 Axes>"
            ],
            "image/png": "[encoded data removed]"
          },
          "metadata": {}
        }
      ]
    },
    {
      "cell_type": "markdown",
      "source": [
        "# Question 6 : On utilise predict() pour prédire puis accuracy_score pour obtenir le taux de précision du modèle."
      ],
      "metadata": {
        "id": "vfOOI7s6R9Ul"
      }
    },
    {
      "cell_type": "code",
      "source": [
        "from sklearn.metrics import accuracy_score\n",
        "\n",
        "y_pred = model.predict(X_test)"
      ],
      "metadata": {
        "id": "61HIMh3fSTPp",
        "outputId": "5602b37b-bb21-4b40-f21f-84dbe59ebcf7",
        "colab": {
          "base_uri": "https://localhost:8080/"
        }
      },
      "execution_count": 33,
      "outputs": [
        {
          "output_type": "stream",
          "name": "stdout",
          "text": [
            "81/81 [==============================] - 1s 6ms/step\n"
          ]
        }
      ]
    },
    {
      "cell_type": "code",
      "source": [
        "y_pred > 0.5"
      ],
      "metadata": {
        "id": "VEs88ZW2T81p",
        "outputId": "d76e5b27-de11-492c-c5e4-8382cf426512",
        "colab": {
          "base_uri": "https://localhost:8080/"
        }
      },
      "execution_count": 39,
      "outputs": [
        {
          "output_type": "execute_result",
          "data": {
            "text/plain": [
              "array([[False],\n",
              "       [ True],\n",
              "       [ True],\n",
              "       ...,\n",
              "       [ True],\n",
              "       [False],\n",
              "       [False]])"
            ]
          },
          "metadata": {},
          "execution_count": 39
        }
      ]
    },
    {
      "cell_type": "code",
      "source": [
        "y_pred"
      ],
      "metadata": {
        "id": "hC2CoF_4Ub4S",
        "outputId": "a6ddef57-e0b2-47d8-813b-c5e0e519ed34",
        "colab": {
          "base_uri": "https://localhost:8080/"
        }
      },
      "execution_count": 40,
      "outputs": [
        {
          "output_type": "execute_result",
          "data": {
            "text/plain": [
              "array([[0.15805596],\n",
              "       [0.5955869 ],\n",
              "       [0.7841495 ],\n",
              "       ...,\n",
              "       [0.6218447 ],\n",
              "       [0.2462312 ],\n",
              "       [0.36299416]], dtype=float32)"
            ]
          },
          "metadata": {},
          "execution_count": 40
        }
      ]
    },
    {
      "cell_type": "code",
      "source": [
        "accuracy = accuracy_score(y_test, y_pred_class)\n",
        "\n",
        "print('Accuracy:', accuracy)"
      ],
      "metadata": {
        "id": "1K5UFBfDS5mW",
        "outputId": "2e7d328e-19ea-46fd-bb1a-3081a6e0878f",
        "colab": {
          "base_uri": "https://localhost:8080/"
        }
      },
      "execution_count": 31,
      "outputs": [
        {
          "output_type": "stream",
          "name": "stdout",
          "text": [
            "Accuracy: 0.7591297591297591\n"
          ]
        }
      ]
    },
    {
      "cell_type": "markdown",
      "source": [
        "# Question 7 : On affiche le poids du modèle"
      ],
      "metadata": {
        "id": "Uablt2bhUmdf"
      }
    },
    {
      "cell_type": "code",
      "source": [
        "weights = model.get_weights()\n",
        "print(weights)"
      ],
      "metadata": {
        "id": "fJcaN5B0VExw",
        "outputId": "5e62e006-d5e3-4513-a1bd-7c4d94cdc4e5",
        "colab": {
          "base_uri": "https://localhost:8080/"
        }
      },
      "execution_count": 41,
      "outputs": [
        {
          "output_type": "stream",
          "name": "stdout",
          "text": [
            "[array([[ 2.18423396e-01,  1.17673025e-01,  3.83195788e-01,\n",
            "         2.98890084e-01,  3.17397326e-01,  7.60808215e-02,\n",
            "         5.95880747e-01,  3.31644535e-01, -6.74589455e-01,\n",
            "        -4.01300862e-02],\n",
            "       [-1.48438603e-01,  3.44164580e-01,  2.48961598e-01,\n",
            "         4.23915327e-01, -4.83419374e-02,  1.66778803e-01,\n",
            "         3.50948900e-01, -3.63426030e-01, -5.60971387e-02,\n",
            "        -4.31375921e-01],\n",
            "       [-4.03766939e-03, -1.33139279e-03,  1.82655916e-01,\n",
            "         3.56588244e-01, -6.61635324e-02,  1.65228650e-01,\n",
            "         1.35973588e-01, -3.01820993e-01,  8.38700458e-02,\n",
            "        -2.58853674e-01],\n",
            "       [ 2.83602238e-01,  1.57387957e-01,  3.01144212e-01,\n",
            "         2.73905903e-01, -1.90216631e-01,  1.48282290e-01,\n",
            "         1.53825626e-01,  1.56010389e-01,  2.23656923e-01,\n",
            "         1.09528542e-01],\n",
            "       [-4.32676464e-01,  2.75541872e-01, -2.65291870e-01,\n",
            "        -8.29725116e-02, -2.16356531e-01, -4.13107276e-02,\n",
            "         6.83759972e-02, -1.04245670e-01,  3.32347423e-01,\n",
            "         3.41361046e-01],\n",
            "       [-2.00393349e-01, -7.37647414e-01,  1.37072489e-01,\n",
            "         2.00101167e-01,  8.92358944e-02, -3.17724049e-01,\n",
            "        -1.22082628e-01,  2.39873439e-01,  1.03360228e-01,\n",
            "        -5.11733770e-01],\n",
            "       [ 2.58289486e-01,  2.60936379e-01, -5.31402588e-01,\n",
            "        -3.93654406e-02, -2.93566845e-02, -3.57487023e-01,\n",
            "         2.86748886e-01, -6.31841924e-03,  1.53079718e-01,\n",
            "         2.48176873e-01],\n",
            "       [ 2.26225600e-01, -8.27476829e-02, -5.07544696e-01,\n",
            "        -3.83827001e-01,  2.88524181e-01, -7.84540415e-01,\n",
            "        -1.65980577e-01,  5.16371965e-01, -3.36972117e-01,\n",
            "        -8.51243921e-03],\n",
            "       [ 3.71967882e-01,  3.97011191e-01, -3.79049182e-02,\n",
            "         4.19023961e-01, -1.22848839e-01, -4.87671465e-01,\n",
            "         6.79710209e-02, -9.45147946e-02,  3.55384916e-01,\n",
            "         7.69752020e-04],\n",
            "       [ 5.29380322e-01, -1.38205841e-01,  2.69404620e-01,\n",
            "        -5.81675708e-01, -3.54813129e-01,  2.82518238e-01,\n",
            "         3.79749089e-01,  3.41975003e-01, -4.04983938e-01,\n",
            "        -7.07621932e-01],\n",
            "       [ 1.67475089e-01, -3.94546598e-01, -1.68216407e-01,\n",
            "        -4.96460438e-01, -6.00243866e-01,  2.42032230e-01,\n",
            "        -3.17352921e-01, -4.04429168e-01,  2.94033259e-01,\n",
            "        -2.36235350e-01],\n",
            "       [-1.77142993e-01, -5.85498273e-01, -1.33066075e-02,\n",
            "         6.47456169e-01,  7.71991074e-01,  5.22435308e-01,\n",
            "         2.56134927e-01,  3.46851975e-01,  5.97400032e-02,\n",
            "         6.62325442e-01]], dtype=float32), array([-0.11370356,  0.22270073,  0.0740165 ,  0.1280926 ,  0.27244395,\n",
            "        0.3078049 , -0.14234866, -0.02004671, -0.01058415,  0.19609599],\n",
            "      dtype=float32), array([[ 0.22077161, -0.30028713, -0.4833408 ,  0.51100415,  0.44230705,\n",
            "        -0.24155834, -0.32982942,  0.3384633 ,  0.26662442, -0.21025586],\n",
            "       [-0.38266206, -0.37177604, -0.05830639,  0.3742955 ,  0.40912282,\n",
            "        -0.44513345, -0.30993932, -0.14276367, -0.30482364,  0.17506646],\n",
            "       [-0.47161478,  0.4636327 , -0.2840223 , -0.24946126, -0.4124264 ,\n",
            "        -0.49599835, -0.11537658, -0.51257294,  0.17239168, -0.05660655],\n",
            "       [-0.49249998, -0.39698014,  0.20579284,  0.07499653,  0.45524815,\n",
            "         0.366653  ,  0.0246009 , -0.24222219, -0.3723687 , -0.14135984],\n",
            "       [ 0.47369215,  0.33539036,  0.40416688,  0.07130636,  0.38411346,\n",
            "        -0.48524052,  0.3310021 ,  0.01902371, -0.42064157,  0.21195072],\n",
            "       [-0.26700252,  0.12132582, -0.4440357 ,  0.42713   ,  0.1478745 ,\n",
            "         0.12933539, -0.38940224, -0.07554485,  0.64948475,  0.4971607 ],\n",
            "       [ 0.02632097,  0.34816667, -0.5870951 , -0.5597582 , -0.37673593,\n",
            "        -0.27003658, -0.22080632,  0.23489267, -0.24078326,  0.32819483],\n",
            "       [-0.25060153, -0.28965172, -0.0556261 ,  0.14399207, -0.5539908 ,\n",
            "        -0.7079737 ,  0.30465868, -0.00866743, -0.18200763,  0.23577109],\n",
            "       [-0.4173238 ,  0.10549305,  0.05460509,  0.36976147, -0.44834983,\n",
            "         0.14719442, -0.2947143 , -0.30863813,  0.31203103, -0.02970668],\n",
            "       [-0.23769741, -0.26441202,  0.09589396,  0.14748271,  0.21753949,\n",
            "        -0.24354109,  0.57921845, -0.3754717 , -0.49880913, -0.3375529 ]],\n",
            "      dtype=float32), array([ 0.14892803,  0.06543809, -0.01781823,  0.09773206,  0.12964413,\n",
            "        0.05446552,  0.19223735,  0.06004758,  0.13839228,  0.18303075],\n",
            "      dtype=float32), array([[-0.24102865, -0.3571616 , -0.10349781, -0.36703664,  0.44521004,\n",
            "        -0.38689741,  0.43283573,  0.11559668,  0.349515  ,  0.00858396],\n",
            "       [ 0.49547207,  0.5109857 ,  0.17866307, -0.28027514, -0.41013098,\n",
            "        -0.346419  ,  0.48389226, -0.29193506,  0.27701667,  0.07968532],\n",
            "       [ 0.41087374, -0.51486987,  0.17288075, -0.22198969, -0.14642921,\n",
            "         0.59748685,  0.21510509, -0.32511616, -0.5944623 , -0.22354588],\n",
            "       [ 0.27518773, -0.18582192,  0.4624196 , -0.18203892,  0.29478896,\n",
            "         0.565997  , -0.2031199 , -0.35787725,  0.09688033, -0.39608547],\n",
            "       [ 0.00468346, -0.5997656 , -0.3249501 , -0.22089277, -0.06513125,\n",
            "         0.6588009 ,  0.62532353, -0.47011715, -0.49343705,  0.5480465 ],\n",
            "       [-0.53196865,  0.03244715,  0.42677417,  0.2038289 , -0.24935037,\n",
            "        -0.27654177, -0.16736016,  0.28154474,  0.17138405,  0.06207732],\n",
            "       [ 0.49187443,  0.3071303 , -0.54609495, -0.5246536 ,  0.25998414,\n",
            "         0.5946981 , -0.08998323, -0.01139323,  0.43766338, -0.6174368 ],\n",
            "       [-0.37532595,  0.5667904 ,  0.08595686,  0.5445497 ,  0.25140268,\n",
            "         0.01625809, -0.36216646, -0.14671567, -0.01740073,  0.48097038],\n",
            "       [-0.09708686,  0.5612419 ,  0.15719627,  0.15495372, -0.15803424,\n",
            "         0.11956098, -0.431493  , -0.309971  ,  0.23329395, -0.1239897 ],\n",
            "       [-0.08875745,  0.43031454,  0.33899423,  0.24309564,  0.08409738,\n",
            "        -0.10290879,  0.22525689, -0.50607157,  0.33522397,  0.33201236]],\n",
            "      dtype=float32), array([ 0.06979011,  0.1374996 , -0.00117477,  0.0866339 ,  0.06764629,\n",
            "        0.00667014,  0.11286122,  0.04685248,  0.05006308, -0.00695853],\n",
            "      dtype=float32), array([[-0.09751163],\n",
            "       [ 0.74023545],\n",
            "       [ 0.40542036],\n",
            "       [ 0.724054  ],\n",
            "       [-0.69482046],\n",
            "       [-0.4253435 ],\n",
            "       [-0.6404943 ],\n",
            "       [-0.14276622],\n",
            "       [ 0.500534  ],\n",
            "       [-0.44900766]], dtype=float32), array([-0.04357397], dtype=float32)]\n"
          ]
        }
      ]
    },
    {
      "cell_type": "markdown",
      "source": [
        "# Les poids sont stockés sous forme de tableaux, qui sont des couches du modèle, et pour chaque couche, il y a deux tableaux, un pour les poids et un autre pour les biais.\n"
      ],
      "metadata": {
        "id": "ygJjJF3nWKD3"
      }
    },
    {
      "cell_type": "markdown",
      "source": [
        "# Question 8 : "
      ],
      "metadata": {
        "id": "HE7TUDRLVOpy"
      }
    },
    {
      "cell_type": "code",
      "source": [
        "#premier modèle "
      ],
      "metadata": {
        "id": "0GNmR2mKYpL0"
      },
      "execution_count": null,
      "outputs": []
    },
    {
      "cell_type": "code",
      "source": [
        "import tensorflow as tf\n",
        "\n",
        "class MultiLayerPerceptron:\n",
        "    def __init__(self, input_dim, output_dim):\n",
        "\n",
        "        # On crée un modèle séquentiel\n",
        "        self.model = tf.keras.models.Sequential() \n",
        "\n",
        "        # Première couche cachée de 5 neurones\n",
        "        self.model.add(tf.keras.layers.Dense(5, input_dim=input_dim, activation='sigmoid'))\n",
        "\n",
        "        # Troisième couche cachée de 2 neurones\n",
        "        self.model.add(tf.keras.layers.Dense(2, activation='softmax'))\n",
        "        self.model.add(tf.keras.layers.Dense(2, activation='softmax'))\n",
        "\n",
        "        # Couche de sortie de 1 neurones\n",
        "        self.model.add(tf.keras.layers.Dense(output_dim, activation='sigmoid'))\n",
        "\n",
        "model = MultiLayerPerceptron(12, 1).model"
      ],
      "metadata": {
        "id": "PRKgieJNYq39"
      },
      "execution_count": 168,
      "outputs": []
    },
    {
      "cell_type": "code",
      "source": [
        "model.compile(optimizer='sgd', loss='mean_absolute_error', metrics=['accuracy'])\n",
        "model.summary()"
      ],
      "metadata": {
        "id": "Or0STYx2YspQ",
        "outputId": "13631a1b-c0ca-4301-b5e9-5d47fb305247",
        "colab": {
          "base_uri": "https://localhost:8080/"
        }
      },
      "execution_count": 169,
      "outputs": [
        {
          "output_type": "stream",
          "name": "stdout",
          "text": [
            "Model: \"sequential_31\"\n",
            "_________________________________________________________________\n",
            " Layer (type)                Output Shape              Param #   \n",
            "=================================================================\n",
            " dense_120 (Dense)           (None, 5)                 65        \n",
            "                                                                 \n",
            " dense_121 (Dense)           (None, 2)                 12        \n",
            "                                                                 \n",
            " dense_122 (Dense)           (None, 2)                 6         \n",
            "                                                                 \n",
            " dense_123 (Dense)           (None, 1)                 3         \n",
            "                                                                 \n",
            "=================================================================\n",
            "Total params: 86\n",
            "Trainable params: 86\n",
            "Non-trainable params: 0\n",
            "_________________________________________________________________\n"
          ]
        }
      ]
    },
    {
      "cell_type": "code",
      "source": [
        "history = model.fit(X_train, y_train, validation_data=(X_test, y_test),epochs=10, batch_size=25)"
      ],
      "metadata": {
        "id": "CZijfp8kaAI4",
        "outputId": "52210cd2-3276-4b1c-85b3-88d5eea872b6",
        "colab": {
          "base_uri": "https://localhost:8080/"
        }
      },
      "execution_count": 170,
      "outputs": [
        {
          "output_type": "stream",
          "name": "stdout",
          "text": [
            "Epoch 1/10\n",
            "412/412 [==============================] - 2s 2ms/step - loss: 0.5231 - accuracy: 0.3695 - val_loss: 0.4885 - val_accuracy: 0.7051\n",
            "Epoch 2/10\n",
            "412/412 [==============================] - 1s 2ms/step - loss: 0.4581 - accuracy: 0.6884 - val_loss: 0.4233 - val_accuracy: 0.7051\n",
            "Epoch 3/10\n",
            "412/412 [==============================] - 1s 2ms/step - loss: 0.4086 - accuracy: 0.6884 - val_loss: 0.3813 - val_accuracy: 0.7051\n",
            "Epoch 4/10\n",
            "412/412 [==============================] - 1s 2ms/step - loss: 0.3787 - accuracy: 0.6884 - val_loss: 0.3567 - val_accuracy: 0.7051\n",
            "Epoch 5/10\n",
            "412/412 [==============================] - 1s 2ms/step - loss: 0.3610 - accuracy: 0.6884 - val_loss: 0.3418 - val_accuracy: 0.7051\n",
            "Epoch 6/10\n",
            "412/412 [==============================] - 1s 2ms/step - loss: 0.3500 - accuracy: 0.6884 - val_loss: 0.3321 - val_accuracy: 0.7051\n",
            "Epoch 7/10\n",
            "412/412 [==============================] - 1s 2ms/step - loss: 0.3426 - accuracy: 0.6884 - val_loss: 0.3256 - val_accuracy: 0.7051\n",
            "Epoch 8/10\n",
            "412/412 [==============================] - 1s 2ms/step - loss: 0.3375 - accuracy: 0.6884 - val_loss: 0.3208 - val_accuracy: 0.7051\n",
            "Epoch 9/10\n",
            "412/412 [==============================] - 1s 2ms/step - loss: 0.3337 - accuracy: 0.6884 - val_loss: 0.3173 - val_accuracy: 0.7051\n",
            "Epoch 10/10\n",
            "412/412 [==============================] - 1s 2ms/step - loss: 0.3308 - accuracy: 0.6884 - val_loss: 0.3145 - val_accuracy: 0.7051\n"
          ]
        }
      ]
    },
    {
      "cell_type": "code",
      "source": [
        "plot_history(history)\n"
      ],
      "metadata": {
        "id": "dgUhcRNpaEKh",
        "outputId": "32fc80ae-e991-47b4-8eff-b077f1b754ac",
        "colab": {
          "base_uri": "https://localhost:8080/",
          "height": 472
        }
      },
      "execution_count": 171,
      "outputs": [
        {
          "output_type": "display_data",
          "data": {
            "text/plain": [
              "<Figure size 640x480 with 1 Axes>"
            ],
            "image/png": "[encoded data removed]"
          },
          "metadata": {}
        }
      ]
    },
    {
      "cell_type": "code",
      "source": [
        "from sklearn.metrics import accuracy_score\n",
        "\n",
        "y_pred = model.predict(X_test) > 0.5\n",
        "\n",
        "accuracy = accuracy_score(y_test, y_pred> 0.5)\n",
        "\n",
        "print('Accuracy:', accuracy)\n"
      ],
      "metadata": {
        "id": "ZSJqmLnfloEJ",
        "outputId": "a094f717-cc7f-4692-f3b1-4dad32ff1b35",
        "colab": {
          "base_uri": "https://localhost:8080/"
        }
      },
      "execution_count": 172,
      "outputs": [
        {
          "output_type": "stream",
          "name": "stdout",
          "text": [
            "81/81 [==============================] - 0s 1ms/step\n",
            "Accuracy: 0.7051282051282052\n"
          ]
        }
      ]
    },
    {
      "cell_type": "code",
      "source": [
        "#2e modèle"
      ],
      "metadata": {
        "id": "oO5s_US9ahzQ"
      },
      "execution_count": null,
      "outputs": []
    },
    {
      "cell_type": "code",
      "source": [
        "import tensorflow as tf\n",
        "\n",
        "class MultiLayerPerceptron:\n",
        "    def __init__(self, input_dim, output_dim):\n",
        "\n",
        "        # On crée un modèle séquentiel\n",
        "        self.model = tf.keras.models.Sequential() \n",
        "\n",
        "        # Seule couche cachée de 10 neurones\n",
        "        self.model.add(tf.keras.layers.Dense(10, input_dim=input_dim, activation='tanh'))\n",
        "\n",
        "        # Couche de sortie de 1 neurones\n",
        "        self.model.add(tf.keras.layers.Dense(output_dim, activation='sigmoid'))\n",
        "\n",
        "model = MultiLayerPerceptron(12, 1).model"
      ],
      "metadata": {
        "id": "dqsybq_sajkZ"
      },
      "execution_count": 113,
      "outputs": []
    },
    {
      "cell_type": "code",
      "source": [
        "model.compile(optimizer='Nadam', loss='mean_squared_error', metrics=['accuracy'])\n",
        "model.summary()"
      ],
      "metadata": {
        "id": "kIzC1wKIbj9o",
        "outputId": "ce9cdbf4-8889-4da5-fb7b-40d1ca54547f",
        "colab": {
          "base_uri": "https://localhost:8080/"
        }
      },
      "execution_count": 122,
      "outputs": [
        {
          "output_type": "stream",
          "name": "stdout",
          "text": [
            "Model: \"sequential_23\"\n",
            "_________________________________________________________________\n",
            " Layer (type)                Output Shape              Param #   \n",
            "=================================================================\n",
            " dense_96 (Dense)            (None, 10)                130       \n",
            "                                                                 \n",
            " dense_97 (Dense)            (None, 1)                 11        \n",
            "                                                                 \n",
            "=================================================================\n",
            "Total params: 141\n",
            "Trainable params: 141\n",
            "Non-trainable params: 0\n",
            "_________________________________________________________________\n"
          ]
        }
      ]
    },
    {
      "cell_type": "code",
      "source": [
        "X_train.shape"
      ],
      "metadata": {
        "id": "xu67FzrvdW9I",
        "outputId": "ae4c013a-da8b-47f9-c68d-fa5601b695ec",
        "colab": {
          "base_uri": "https://localhost:8080/"
        }
      },
      "execution_count": 123,
      "outputs": [
        {
          "output_type": "execute_result",
          "data": {
            "text/plain": [
              "(10296, 12)"
            ]
          },
          "metadata": {},
          "execution_count": 123
        }
      ]
    },
    {
      "cell_type": "code",
      "source": [
        "history = model.fit(X_train, y_train, validation_data=(X_test, y_test),epochs=5, batch_size=20)"
      ],
      "metadata": {
        "id": "jIvhApWBbpLK",
        "outputId": "42a9b60b-1653-4f3b-b459-3faa759d1ab7",
        "colab": {
          "base_uri": "https://localhost:8080/"
        }
      },
      "execution_count": 124,
      "outputs": [
        {
          "output_type": "stream",
          "name": "stdout",
          "text": [
            "Epoch 1/5\n",
            "515/515 [==============================] - 3s 4ms/step - loss: 0.2196 - accuracy: 0.6490 - val_loss: 0.1882 - val_accuracy: 0.7246\n",
            "Epoch 2/5\n",
            "515/515 [==============================] - 2s 3ms/step - loss: 0.1902 - accuracy: 0.7243 - val_loss: 0.1833 - val_accuracy: 0.7370\n",
            "Epoch 3/5\n",
            "515/515 [==============================] - 2s 4ms/step - loss: 0.1876 - accuracy: 0.7306 - val_loss: 0.1816 - val_accuracy: 0.7424\n",
            "Epoch 4/5\n",
            "515/515 [==============================] - 2s 3ms/step - loss: 0.1864 - accuracy: 0.7330 - val_loss: 0.1807 - val_accuracy: 0.7370\n",
            "Epoch 5/5\n",
            "515/515 [==============================] - 1s 2ms/step - loss: 0.1850 - accuracy: 0.7340 - val_loss: 0.1792 - val_accuracy: 0.7444\n"
          ]
        }
      ]
    },
    {
      "cell_type": "code",
      "source": [
        "plot_history(history)"
      ],
      "metadata": {
        "id": "6lkg_JHgbt-5",
        "outputId": "67ce1bc3-4d42-4db3-eaa9-2736ddbea494",
        "colab": {
          "base_uri": "https://localhost:8080/",
          "height": 472
        }
      },
      "execution_count": 125,
      "outputs": [
        {
          "output_type": "display_data",
          "data": {
            "text/plain": [
              "<Figure size 640x480 with 1 Axes>"
            ],
            "image/png": "[encoded data removed]"
          },
          "metadata": {}
        }
      ]
    },
    {
      "cell_type": "code",
      "source": [
        "y_pred > 0.5"
      ],
      "metadata": {
        "id": "3maRLr1Lk3Kj",
        "outputId": "97a7273c-aedc-4451-c15f-9a519eaf5a49",
        "colab": {
          "base_uri": "https://localhost:8080/"
        }
      },
      "execution_count": 157,
      "outputs": [
        {
          "output_type": "execute_result",
          "data": {
            "text/plain": [
              "array([[False],\n",
              "       [ True],\n",
              "       [ True],\n",
              "       ...,\n",
              "       [False],\n",
              "       [False],\n",
              "       [False]])"
            ]
          },
          "metadata": {},
          "execution_count": 157
        }
      ]
    },
    {
      "cell_type": "code",
      "source": [
        "from sklearn.metrics import accuracy_score\n",
        "\n",
        "y_pred = model.predict(X_test) > 0.5\n",
        "\n",
        "accuracy = accuracy_score(y_test, y_pred> 0.5)\n",
        "\n",
        "print('Accuracy:', accuracy)"
      ],
      "metadata": {
        "id": "UMIchFAddr3P",
        "outputId": "43a4cdab-dc80-4c54-8020-325dfcab125e",
        "colab": {
          "base_uri": "https://localhost:8080/"
        }
      },
      "execution_count": 158,
      "outputs": [
        {
          "output_type": "stream",
          "name": "stdout",
          "text": [
            "81/81 [==============================] - 0s 1ms/step\n",
            "Accuracy: 0.7451437451437452\n"
          ]
        }
      ]
    },
    {
      "cell_type": "code",
      "source": [
        "#3e modèle"
      ],
      "metadata": {
        "id": "eMb9QFOhglva"
      },
      "execution_count": null,
      "outputs": []
    },
    {
      "cell_type": "code",
      "source": [
        "class MultiLayerPerceptron:\n",
        "    def __init__(self, input_dim, output_dim):\n",
        "\n",
        "        # On crée un modèle séquentiel\n",
        "        self.model = tf.keras.models.Sequential() \n",
        "\n",
        "        # Première couche cachée de 5 neurones\n",
        "        self.model.add(tf.keras.layers.Dense(5, input_dim=input_dim, activation='tanh'))\n",
        "\n",
        "        # Deuxième couche cachée de 7 neurones\n",
        "        self.model.add(tf.keras.layers.Dense(7, input_dim=input_dim, activation='tanh'))\n",
        "\n",
        "        # Couche de sortie de 1 neurones\n",
        "        self.model.add(tf.keras.layers.Dense(output_dim, activation='sigmoid'))\n",
        "\n",
        "model = MultiLayerPerceptron(12, 1).model"
      ],
      "metadata": {
        "id": "gmvXMEPTiBdI"
      },
      "execution_count": 160,
      "outputs": []
    },
    {
      "cell_type": "code",
      "source": [
        "model.compile(optimizer='RMSprop', loss='mean_squared_error', metrics=['accuracy'])\n",
        "model.summary()"
      ],
      "metadata": {
        "id": "5Xda53yUiTrR",
        "outputId": "9d82b92f-b0c3-4d2c-f0a1-a411a1d74a69",
        "colab": {
          "base_uri": "https://localhost:8080/"
        }
      },
      "execution_count": 161,
      "outputs": [
        {
          "output_type": "stream",
          "name": "stdout",
          "text": [
            "Model: \"sequential_29\"\n",
            "_________________________________________________________________\n",
            " Layer (type)                Output Shape              Param #   \n",
            "=================================================================\n",
            " dense_113 (Dense)           (None, 5)                 65        \n",
            "                                                                 \n",
            " dense_114 (Dense)           (None, 7)                 42        \n",
            "                                                                 \n",
            " dense_115 (Dense)           (None, 1)                 8         \n",
            "                                                                 \n",
            "=================================================================\n",
            "Total params: 115\n",
            "Trainable params: 115\n",
            "Non-trainable params: 0\n",
            "_________________________________________________________________\n"
          ]
        }
      ]
    },
    {
      "cell_type": "code",
      "source": [
        "history = model.fit(X_train, y_train, validation_data=(X_test, y_test),epochs=10, batch_size=12)"
      ],
      "metadata": {
        "id": "dYJl5Xq_ilXg",
        "outputId": "3487f41f-9708-4ee4-c5c3-6b44b371e435",
        "colab": {
          "base_uri": "https://localhost:8080/"
        }
      },
      "execution_count": 162,
      "outputs": [
        {
          "output_type": "stream",
          "name": "stdout",
          "text": [
            "Epoch 1/10\n",
            "858/858 [==============================] - 2s 2ms/step - loss: 0.2021 - accuracy: 0.7002 - val_loss: 0.1857 - val_accuracy: 0.7424\n",
            "Epoch 2/10\n",
            "858/858 [==============================] - 1s 2ms/step - loss: 0.1893 - accuracy: 0.7294 - val_loss: 0.1811 - val_accuracy: 0.7455\n",
            "Epoch 3/10\n",
            "858/858 [==============================] - 2s 2ms/step - loss: 0.1862 - accuracy: 0.7325 - val_loss: 0.1802 - val_accuracy: 0.7459\n",
            "Epoch 4/10\n",
            "858/858 [==============================] - 2s 2ms/step - loss: 0.1849 - accuracy: 0.7358 - val_loss: 0.1784 - val_accuracy: 0.7498\n",
            "Epoch 5/10\n",
            "858/858 [==============================] - 1s 2ms/step - loss: 0.1841 - accuracy: 0.7385 - val_loss: 0.1781 - val_accuracy: 0.7514\n",
            "Epoch 6/10\n",
            "858/858 [==============================] - 2s 2ms/step - loss: 0.1836 - accuracy: 0.7380 - val_loss: 0.1775 - val_accuracy: 0.7502\n",
            "Epoch 7/10\n",
            "858/858 [==============================] - 2s 2ms/step - loss: 0.1831 - accuracy: 0.7382 - val_loss: 0.1778 - val_accuracy: 0.7459\n",
            "Epoch 8/10\n",
            "858/858 [==============================] - 1s 2ms/step - loss: 0.1826 - accuracy: 0.7403 - val_loss: 0.1781 - val_accuracy: 0.7490\n",
            "Epoch 9/10\n",
            "858/858 [==============================] - 1s 2ms/step - loss: 0.1823 - accuracy: 0.7400 - val_loss: 0.1767 - val_accuracy: 0.7494\n",
            "Epoch 10/10\n",
            "858/858 [==============================] - 1s 2ms/step - loss: 0.1819 - accuracy: 0.7398 - val_loss: 0.1767 - val_accuracy: 0.7510\n"
          ]
        }
      ]
    },
    {
      "cell_type": "code",
      "source": [
        "plot_history(history)"
      ],
      "metadata": {
        "id": "GViQFVgfiluu",
        "outputId": "77ffcbeb-8bdc-4921-f5c4-635ab1ed8a02",
        "colab": {
          "base_uri": "https://localhost:8080/",
          "height": 472
        }
      },
      "execution_count": 163,
      "outputs": [
        {
          "output_type": "display_data",
          "data": {
            "text/plain": [
              "<Figure size 640x480 with 1 Axes>"
            ],
            "image/png": "[encoded data removed]"
          },
          "metadata": {}
        }
      ]
    },
    {
      "cell_type": "code",
      "source": [
        "from sklearn.metrics import accuracy_score\n",
        "\n",
        "y_pred = model.predict(X_test) > 0.5\n",
        "\n",
        "accuracy = accuracy_score(y_test, y_pred> 0.5)\n",
        "\n",
        "print('Accuracy:', accuracy)"
      ],
      "metadata": {
        "id": "pgAm9JfujJiZ",
        "outputId": "08850280-66a1-4844-9721-baea055f9049",
        "colab": {
          "base_uri": "https://localhost:8080/"
        }
      },
      "execution_count": 164,
      "outputs": [
        {
          "output_type": "stream",
          "name": "stdout",
          "text": [
            "81/81 [==============================] - 0s 2ms/step\n",
            "Accuracy: 0.750971250971251\n"
          ]
        }
      ]
    },
    {
      "cell_type": "code",
      "source": [
        "# Le premier modèle présente un taux de précision de 0,705.\n",
        "# Le deuxième modèle présente un taux de précision de 0,745.\n",
        "# Le Troisième modèle présente un taux de précision de 0,751."
      ],
      "metadata": {
        "id": "CH8I5b9qkSOn"
      },
      "execution_count": null,
      "outputs": []
    },
    {
      "cell_type": "markdown",
      "source": [
        "# Le meilleur modèle est donc le 3e !"
      ],
      "metadata": {
        "id": "HYilu8qRmDoL"
      }
    },
    {
      "cell_type": "markdown",
      "source": [
        "# Question 9 : Sauvegarde du fichier puis chargement du fichier"
      ],
      "metadata": {
        "id": "a_h6m-f3m7UB"
      }
    },
    {
      "cell_type": "code",
      "source": [
        "from tensorflow import keras\n",
        "\n",
        "model.save('topmodel.h5')"
      ],
      "metadata": {
        "id": "mgBkBldOmVKD"
      },
      "execution_count": 181,
      "outputs": []
    },
    {
      "cell_type": "code",
      "source": [
        "model = keras.models.load_model('topmodel.h5')"
      ],
      "metadata": {
        "id": "7wzKCqDRmY0U"
      },
      "execution_count": 182,
      "outputs": []
    },
    {
      "cell_type": "code",
      "source": [],
      "metadata": {
        "id": "LgiKXcFImk7o"
      },
      "execution_count": null,
      "outputs": []
    }
  ]
}